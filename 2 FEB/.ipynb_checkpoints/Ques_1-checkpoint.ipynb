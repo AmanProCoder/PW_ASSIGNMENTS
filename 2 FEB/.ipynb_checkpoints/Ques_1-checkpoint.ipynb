{
 "cells": [
  {
   "cell_type": "markdown",
   "id": "47a7471c",
   "metadata": {},
   "source": [
    "for loop is used when we require to run the loop for certain n times or when we want to iterate over an array "
   ]
  },
  {
   "cell_type": "code",
   "execution_count": 2,
   "id": "dabf5464",
   "metadata": {},
   "outputs": [
    {
     "name": "stdout",
     "output_type": "stream",
     "text": [
      "0\n",
      "1\n",
      "2\n",
      "3\n",
      "4\n",
      "5\n",
      "6\n",
      "7\n",
      "8\n",
      "9\n",
      "Printing the elements of a list:\n",
      "10\n",
      "20\n",
      "30\n",
      "40\n",
      "50\n"
     ]
    }
   ],
   "source": [
    "for i in range(10):\n",
    "    print(i)\n",
    "l=[10,20,30,40,50]\n",
    "print('Printing the elements of a list:')\n",
    "for k in l:\n",
    "    print(k)"
   ]
  },
  {
   "cell_type": "markdown",
   "id": "41d5ae58",
   "metadata": {},
   "source": [
    "while loop is used when we want to check a certain condition first and then run the loop and run it untill the condition becomes false"
   ]
  },
  {
   "cell_type": "code",
   "execution_count": 3,
   "id": "596edbe7",
   "metadata": {},
   "outputs": [
    {
     "name": "stdout",
     "output_type": "stream",
     "text": [
      "10\n",
      "8\n",
      "6\n",
      "4\n",
      "2\n"
     ]
    }
   ],
   "source": [
    "a=10\n",
    "while a>0:\n",
    "    print(a)\n",
    "    a=a-2"
   ]
  }
 ],
 "metadata": {
  "kernelspec": {
   "display_name": "Python 3 (ipykernel)",
   "language": "python",
   "name": "python3"
  },
  "language_info": {
   "codemirror_mode": {
    "name": "ipython",
    "version": 3
   },
   "file_extension": ".py",
   "mimetype": "text/x-python",
   "name": "python",
   "nbconvert_exporter": "python",
   "pygments_lexer": "ipython3",
   "version": "3.9.12"
  }
 },
 "nbformat": 4,
 "nbformat_minor": 5
}
