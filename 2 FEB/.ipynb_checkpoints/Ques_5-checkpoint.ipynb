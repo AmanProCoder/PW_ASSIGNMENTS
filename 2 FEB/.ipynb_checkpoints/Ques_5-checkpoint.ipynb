{
 "cells": [
  {
   "cell_type": "code",
   "execution_count": 7,
   "id": "e68a1b50",
   "metadata": {},
   "outputs": [
    {
     "name": "stdout",
     "output_type": "stream",
     "text": [
      "The list of all the vowel occurence are: ['i', 'a', 'o', 'e', 'o', 'e', 'a', 'a', 'a', 'i', 'e', 'i']\n",
      "a comes 4 times\n",
      "e comes 3 times\n",
      "i comes 3 times\n",
      "o comes 2 times\n",
      "u comes 0 times\n"
     ]
    }
   ],
   "source": [
    "s=\"I want to become a data scientist\"\n",
    "s=s.lower()\n",
    "l=[]\n",
    "for i in s:\n",
    "    if i == \"a\" or i == \"e\" or i == \"i\" or i == \"o\" or i == 'u':\n",
    "        l.append(i)\n",
    "print(\"The list of all the vowel occurence are:\",l)\n",
    "print(\"a comes\",l.count('a'),\"times\")\n",
    "print(\"e comes\",l.count('e'),\"times\")\n",
    "print(\"i comes\",l.count('i'),\"times\")\n",
    "print(\"o comes\",l.count('o'),\"times\")\n",
    "print(\"u comes\",l.count('u'),\"times\")"
   ]
  },
  {
   "cell_type": "code",
   "execution_count": null,
   "id": "d9b01e6f",
   "metadata": {},
   "outputs": [],
   "source": []
  }
 ],
 "metadata": {
  "kernelspec": {
   "display_name": "Python 3 (ipykernel)",
   "language": "python",
   "name": "python3"
  },
  "language_info": {
   "codemirror_mode": {
    "name": "ipython",
    "version": 3
   },
   "file_extension": ".py",
   "mimetype": "text/x-python",
   "name": "python",
   "nbconvert_exporter": "python",
   "pygments_lexer": "ipython3",
   "version": "3.9.12"
  }
 },
 "nbformat": 4,
 "nbformat_minor": 5
}
