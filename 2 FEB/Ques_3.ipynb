{
 "cells": [
  {
   "cell_type": "code",
   "execution_count": 2,
   "id": "01083a0c",
   "metadata": {},
   "outputs": [
    {
     "name": "stdout",
     "output_type": "stream",
     "text": [
      "Enter the monthly unit consumed:310\n",
      "charges are: 2250\n"
     ]
    }
   ],
   "source": [
    "a=int(input(\"Enter the monthly unit consumed:\"))\n",
    "if a<=100:\n",
    "    charges=a*4.5\n",
    "elif a<=200:\n",
    "    charges=450+(a-100)*6\n",
    "elif a<=300:\n",
    "    charges=450+600+(a-200)*10\n",
    "else:\n",
    "    charges=450+600+1000+(a-300)*20\n",
    "print(\"charges are:\",charges)"
   ]
  },
  {
   "cell_type": "code",
   "execution_count": null,
   "id": "d7b47853",
   "metadata": {},
   "outputs": [],
   "source": []
  }
 ],
 "metadata": {
  "kernelspec": {
   "display_name": "Python 3 (ipykernel)",
   "language": "python",
   "name": "python3"
  },
  "language_info": {
   "codemirror_mode": {
    "name": "ipython",
    "version": 3
   },
   "file_extension": ".py",
   "mimetype": "text/x-python",
   "name": "python",
   "nbconvert_exporter": "python",
   "pygments_lexer": "ipython3",
   "version": "3.9.12"
  }
 },
 "nbformat": 4,
 "nbformat_minor": 5
}
