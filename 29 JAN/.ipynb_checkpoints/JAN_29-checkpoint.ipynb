{
 "cells": [
  {
   "cell_type": "markdown",
   "id": "465a5ff8",
   "metadata": {},
   "source": [
    "Ques 1: Who developed Python Programming Language?\n",
    "\n",
    "Guido van Rossum\n"
   ]
  },
  {
   "cell_type": "markdown",
   "id": "81182f5a",
   "metadata": {},
   "source": [
    "Ques 2:Which type of does Python support?\n",
    "    \n",
    "Object-oriented programming and structured programming are fully supported"
   ]
  },
  {
   "cell_type": "markdown",
   "id": "42f4ce91",
   "metadata": {},
   "source": [
    "Ques 3: Is case sensitive when dealing with identifiers?\n",
    "Yes, Python is a case-sensitive language, i.e., it treats uppercase and lowercase characters differently.\n"
   ]
  },
  {
   "cell_type": "markdown",
   "id": "5325d81c",
   "metadata": {},
   "source": [
    "Ques 4: What is the correct extension of the Python file?\n",
    "\n",
    ".py"
   ]
  },
  {
   "cell_type": "markdown",
   "id": "9e3180f0",
   "metadata": {},
   "source": [
    "Ques 5: Is Python compiled or interpreted?\n",
    "\n",
    "Python is an interpreted language"
   ]
  },
  {
   "cell_type": "markdown",
   "id": "af37c959",
   "metadata": {},
   "source": [
    "Ques 6: Name a few blocks of code used to define in Python language?\n",
    "\n",
    "a module, a function body, and a class definition"
   ]
  },
  {
   "cell_type": "markdown",
   "id": "6dc4d04d",
   "metadata": {},
   "source": [
    "Ques 7. State a Character used to give single-line comments in python?\n",
    "\n",
    "'#' is used for single line comment"
   ]
  },
  {
   "cell_type": "markdown",
   "id": "a7ac5efd",
   "metadata": {},
   "source": [
    "Ques 8. Mention functions which can help us to find the version of python that we are currently working on?\n",
    "\n",
    "We can find it using 4 different ways- \n",
    "1. Using sys.version method\n",
    "2. Using python_version() function\n",
    "3. Using Python -V command\n",
    "4. If in windows, open CMD and type \"python --version\""
   ]
  },
  {
   "cell_type": "markdown",
   "id": "57b8f716",
   "metadata": {},
   "source": [
    "Ques 9. Python supports the creation of anonymous functions at runtime. using a construct called lambda.\n"
   ]
  },
  {
   "cell_type": "markdown",
   "id": "091b5b94",
   "metadata": {},
   "source": [
    "Ques 10. What does pip stand for python?\n",
    "\n",
    "Preferred Installer Program - It is usually used to install different modules and packages"
   ]
  },
  {
   "cell_type": "markdown",
   "id": "eb869acd",
   "metadata": {},
   "source": [
    "Ques 11. Mention a few built—in functions in python?\n",
    "\n",
    "range()\n",
    "list()\n",
    "tuple()\n",
    "int()\n",
    "str()\n",
    "bool()\n",
    "sum()\n",
    "max()\n",
    "min()\n"
   ]
  },
  {
   "cell_type": "markdown",
   "id": "843cc50e",
   "metadata": {},
   "source": [
    "Ques 12. What is the maximum possible length of an identifier in Python?\n",
    "\n",
    "79 characters"
   ]
  },
  {
   "cell_type": "markdown",
   "id": "36fa55c3",
   "metadata": {},
   "source": [
    "Ques 13. What are the benefits of using Python?\n",
    "\n",
    "1. It is easy to learn.\n",
    "2. It has large developer community.\n",
    "3. There are alot of modules and libraries which we can use and it makes life of developers very easy. \n",
    "4. In python, we have write less and it can do alot of things by just small piece of code. \n",
    "5. It is portable, it runs on windows, macos, linux.\n",
    "6. Nowadays, it is been used every where. Example- web development, data science, statistics, cyber security."
   ]
  },
  {
   "cell_type": "markdown",
   "id": "68a9ab5e",
   "metadata": {},
   "source": [
    "Ques 14. How is memory managed in Python?\n",
    "\n",
    "Memory management in Python involves a private heap containing all Python objects and data structures. The management of this private heap is ensured internally by the Python memory manager.\n",
    "\n",
    "The Python memory manager has different components which deal with various dynamic storage management aspects, like sharing, segmentation, preallocation or caching."
   ]
  },
  {
   "cell_type": "markdown",
   "id": "f6b2f762",
   "metadata": {},
   "source": [
    "Ques 15. How to install Python on Windows and set path variables?\n",
    "\n",
    "1. Right-clicking This PC and going to Properties.\n",
    "\n",
    "2. Clicking on the Advanced system settings in the menu on the left.\n",
    "\n",
    "3. Clicking on the Environment Variables button o​n the bottom right.\n",
    "\n",
    "4. In the System variables section, selecting the Path variable and clicking on Edit. The next screen will show all the directories that are currently a part of the PATH variable.\n",
    "\n",
    "5. Clicking on New and entering Python’s install directory."
   ]
  },
  {
   "cell_type": "markdown",
   "id": "b085183d",
   "metadata": {},
   "source": [
    "Ques 16. Is indentation required in python?\n",
    "Yes, indentation is very necessary is python as it is only used to define body of function. "
   ]
  }
 ],
 "metadata": {
  "kernelspec": {
   "display_name": "Python 3 (ipykernel)",
   "language": "python",
   "name": "python3"
  },
  "language_info": {
   "codemirror_mode": {
    "name": "ipython",
    "version": 3
   },
   "file_extension": ".py",
   "mimetype": "text/x-python",
   "name": "python",
   "nbconvert_exporter": "python",
   "pygments_lexer": "ipython3",
   "version": "3.9.12"
  }
 },
 "nbformat": 4,
 "nbformat_minor": 5
}
