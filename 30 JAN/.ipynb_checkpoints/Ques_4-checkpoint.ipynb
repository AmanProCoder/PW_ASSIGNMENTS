{
 "cells": [
  {
   "cell_type": "code",
   "execution_count": 2,
   "id": "8080a616",
   "metadata": {},
   "outputs": [
    {
     "name": "stdout",
     "output_type": "stream",
     "text": [
      "Enter the no:90\n",
      "2\n"
     ]
    }
   ],
   "source": [
    "a=int(input(\"Enter the no:\"))\n",
    "i=int(0)\n",
    "while a>10:\n",
    "    a=a/3  #over here I am considering that decimal values are also significant\n",
    "    #a=//3  if decimal values are not significant then we will use this \n",
    "    i=i+1\n",
    "print(i)"
   ]
  },
  {
   "cell_type": "code",
   "execution_count": null,
   "id": "1d3f7f63",
   "metadata": {},
   "outputs": [],
   "source": []
  }
 ],
 "metadata": {
  "kernelspec": {
   "display_name": "Python 3 (ipykernel)",
   "language": "python",
   "name": "python3"
  },
  "language_info": {
   "codemirror_mode": {
    "name": "ipython",
    "version": 3
   },
   "file_extension": ".py",
   "mimetype": "text/x-python",
   "name": "python",
   "nbconvert_exporter": "python",
   "pygments_lexer": "ipython3",
   "version": "3.9.12"
  }
 },
 "nbformat": 4,
 "nbformat_minor": 5
}
