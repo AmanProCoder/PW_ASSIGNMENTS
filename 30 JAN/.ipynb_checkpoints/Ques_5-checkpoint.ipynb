{
 "cells": [
  {
   "cell_type": "markdown",
   "id": "77aba136",
   "metadata": {},
   "source": [
    "In python, when we use while loop then it firstly checks the condition whether it is true or not, so if we ever want the program to first check a certain condition and then only enter in the loop then we can use the while loop. \n",
    "\n",
    "It runs the loop untill the condition becomes false."
   ]
  },
  {
   "cell_type": "code",
   "execution_count": 1,
   "id": "610313e6",
   "metadata": {},
   "outputs": [
    {
     "name": "stdout",
     "output_type": "stream",
     "text": [
      "5\n",
      "4\n",
      "3\n",
      "2\n",
      "1\n"
     ]
    }
   ],
   "source": [
    "i =5\n",
    "while i>0: # so now over here it will first check the condition and then only enter inside the loop\n",
    "    print(i)\n",
    "    i=i-1"
   ]
  },
  {
   "cell_type": "code",
   "execution_count": null,
   "id": "6276d9e1",
   "metadata": {},
   "outputs": [],
   "source": []
  }
 ],
 "metadata": {
  "kernelspec": {
   "display_name": "Python 3 (ipykernel)",
   "language": "python",
   "name": "python3"
  },
  "language_info": {
   "codemirror_mode": {
    "name": "ipython",
    "version": 3
   },
   "file_extension": ".py",
   "mimetype": "text/x-python",
   "name": "python",
   "nbconvert_exporter": "python",
   "pygments_lexer": "ipython3",
   "version": "3.9.12"
  }
 },
 "nbformat": 4,
 "nbformat_minor": 5
}
