{
 "cells": [
  {
   "cell_type": "code",
   "execution_count": 1,
   "id": "7518ba59",
   "metadata": {},
   "outputs": [
    {
     "name": "stdout",
     "output_type": "stream",
     "text": [
      "Pattern  1 :\n",
      "**\n",
      "Pattern  2 :\n",
      "****\n",
      " **\n",
      "Pattern  3 :\n",
      "******\n",
      " ****\n",
      "  **\n"
     ]
    }
   ],
   "source": [
    "a=1\n",
    "while a<4:\n",
    "    b=a\n",
    "    print(\"Pattern \",a,\":\")\n",
    "    while b>0:\n",
    "        print(\" \"*(a-b)+\"*\"*b*2)\n",
    "        b=b-1\n",
    "    a=a+1\n"
   ]
  },
  {
   "cell_type": "code",
   "execution_count": null,
   "id": "04f4d834",
   "metadata": {},
   "outputs": [],
   "source": []
  }
 ],
 "metadata": {
  "kernelspec": {
   "display_name": "Python 3",
   "language": "python",
   "name": "python3"
  },
  "language_info": {
   "codemirror_mode": {
    "name": "ipython",
    "version": 3
   },
   "file_extension": ".py",
   "mimetype": "text/x-python",
   "name": "python",
   "nbconvert_exporter": "python",
   "pygments_lexer": "ipython3",
   "version": "3.10.2"
  },
  "vscode": {
   "interpreter": {
    "hash": "26de051ba29f2982a8de78e945f0abaf191376122a1563185a90213a26c5da77"
   }
  }
 },
 "nbformat": 4,
 "nbformat_minor": 5
}
